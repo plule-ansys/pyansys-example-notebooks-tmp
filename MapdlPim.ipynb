{
 "cells": [
  {
   "cell_type": "code",
   "execution_count": 39,
   "id": "1cd5d8a0-e63a-409a-aece-f308dc6b531e",
   "metadata": {},
   "outputs": [],
   "source": [
    "import requests\n",
    "from ansys.mapdl.core import Mapdl\n",
    "\n",
    "url = \"http://pim.kubernetes-gateway/v1beta1\""
   ]
  },
  {
   "cell_type": "code",
   "execution_count": 40,
   "id": "db578970-54ac-414d-97da-d5f7c0d226dd",
   "metadata": {},
   "outputs": [
    {
     "data": {
      "text/plain": [
       "{'definitions': [{'name': 'definitions/mapdl-221',\n",
       "   'services': [{'name': 'grpc',\n",
       "     'type': 'SERVICE_TYPE_GRPC',\n",
       "     'basePath': 'ansys.api.mapdl'}]},\n",
       "  {'name': 'definitions/mapdl-latest',\n",
       "   'services': [{'name': 'grpc',\n",
       "     'type': 'SERVICE_TYPE_GRPC',\n",
       "     'basePath': 'ansys.api.mapdl'}]}]}"
      ]
     },
     "execution_count": 40,
     "metadata": {},
     "output_type": "execute_result"
    }
   ],
   "source": [
    "# List the instance definitions\n",
    "requests.get(f\"{url}/definitions\").json()"
   ]
  },
  {
   "cell_type": "code",
   "execution_count": 41,
   "id": "807db02a-1ae3-4a82-bb17-ad51dde5ef88",
   "metadata": {},
   "outputs": [],
   "source": [
    "# Create an MAPDL instance\n",
    "instance_json = requests.post(f\"{url}/instances\", json={\"definitionName\":\"definitions/mapdl-221\"}).json()"
   ]
  },
  {
   "cell_type": "code",
   "execution_count": 42,
   "id": "ce78f50e-0c86-4e94-8d60-03063cffb5ff",
   "metadata": {},
   "outputs": [
    {
     "data": {
      "text/plain": [
       "{'instances': [{'name': 'instances/mapdl-221-5f4PWTYf',\n",
       "   'definitionName': 'definitions/mapdl-221'},\n",
       "  {'name': 'instances/mapdl-221-r0AonfUU',\n",
       "   'definitionName': 'definitions/mapdl-221'}]}"
      ]
     },
     "execution_count": 42,
     "metadata": {},
     "output_type": "execute_result"
    }
   ],
   "source": [
    "# List the running instances\n",
    "requests.get(f\"{url}/instances\").json()"
   ]
  },
  {
   "cell_type": "code",
   "execution_count": 43,
   "id": "12abdeeb-c99a-4dae-9f19-aad70d2edcdb",
   "metadata": {},
   "outputs": [],
   "source": [
    "# Create a PyMapdl class\n",
    "# Note: API must be reviewed here, the original PIM API needs a reverse proxy, so ports/grpc is an addition\n",
    "mapdl = Mapdl(instance_json['host'], port = instance_json['ports']['grpc'])"
   ]
  },
  {
   "cell_type": "code",
   "execution_count": 44,
   "id": "3ef0e304-9c94-48f4-a895-d449e38f9cb2",
   "metadata": {},
   "outputs": [
    {
     "name": "stdout",
     "output_type": "stream",
     "text": [
      "**********************************************************************************\n",
      " NOTE: Error occurred while setting the thread affinity on Linux.  Error code = 22.\n",
      " **********************************************************************************\n",
      "\n",
      " *** ANSYS - ENGINEERING ANALYSIS SYSTEM  RELEASE 2021 R2          21.2     ***\n",
      " DISTRIBUTED Ansys Mechanical Enterprise                       \n",
      "\n",
      " 00000000  VERSION=LINUX x64     11:13:40  NOV 02, 2021 CP=      0.379\n",
      "\n",
      "                                                                               \n",
      "\n",
      "\n",
      "\n",
      "          ***** ANSYS ANALYSIS DEFINITION (PREP7) *****\n",
      "1\n"
     ]
    }
   ],
   "source": [
    "# Use the MAPDL instance\n",
    "print(mapdl.prep7())\n",
    "print(mapdl.k())"
   ]
  },
  {
   "cell_type": "code",
   "execution_count": 45,
   "id": "aebc74aa-e184-4991-9ba3-b8e29ae0de9f",
   "metadata": {},
   "outputs": [
    {
     "data": {
      "text/plain": [
       "<Response [200]>"
      ]
     },
     "execution_count": 45,
     "metadata": {},
     "output_type": "execute_result"
    }
   ],
   "source": [
    "# Stop the job\n",
    "requests.delete(f\"{url}/{instance_json['name']}\")"
   ]
  },
  {
   "cell_type": "code",
   "execution_count": null,
   "id": "e75525a5-2674-4a07-ac67-074a5126234c",
   "metadata": {},
   "outputs": [],
   "source": []
  }
 ],
 "metadata": {
  "kernelspec": {
   "display_name": "Python 3 (ipykernel)",
   "language": "python",
   "name": "python3"
  },
  "language_info": {
   "codemirror_mode": {
    "name": "ipython",
    "version": 3
   },
   "file_extension": ".py",
   "mimetype": "text/x-python",
   "name": "python",
   "nbconvert_exporter": "python",
   "pygments_lexer": "ipython3",
   "version": "3.9.7"
  }
 },
 "nbformat": 4,
 "nbformat_minor": 5
}
